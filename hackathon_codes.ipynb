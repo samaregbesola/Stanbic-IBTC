{
 "cells": [
  {
   "cell_type": "markdown",
   "metadata": {},
   "source": [
    "![Hack the feed insights banner](images/hackthefeed.png)\n",
    "\n",
    "# Hack the Feed: Insights from Social Media Data\n",
    "\n",
    "**Author:** Aregbesola Samuel\n",
    "\n",
    "Playhouse Communication stands as a prominent digital marketing agency in Nigeria, known for merging design and media strategy with state-of-the-art technological innovations to transform the landscape of marketing. Their clientele includes both international industry giants and agile small to medium-sized enterprises, all of whom are reshaping their respective fields.\n",
    "\n",
    "In this project we will try to generate game-changing insights for a high-profile client using exclusive social media data.\n",
    "\n",
    "In the [data_cleaning workbook](data_cleaning.ipynb), the raw data was processed and cleaned for all four social media platforms. \n",
    "\n",
    "This python workbook contains codes used to explore the datasets and generate insights. "
   ]
  },
  {
   "cell_type": "code",
   "execution_count": 2,
   "metadata": {},
   "outputs": [],
   "source": [
    "# imports\n",
    "import pandas as pd # library for data manipulation and analysis\n",
    "import numpy as np # library for scientific computing\n",
    "import matplotlib.pyplot as plt # library for visualizing data\n",
    "import seaborn as sns # library for visualizing data\n",
    "import missingno as msno # library for visualizing missing values\n",
    "\n",
    "import warnings # library to ignore warnings\n",
    "warnings.filterwarnings('ignore')\n",
    "\n",
    "# set option to display all the columns of the dataframe\n",
    "pd.set_option('display.max_columns', None)"
   ]
  },
  {
   "cell_type": "code",
   "execution_count": 9,
   "metadata": {},
   "outputs": [],
   "source": [
    "# import helper functions\n",
    "from helper_functions import feature_engineering_functions, time_series_functions"
   ]
  },
  {
   "cell_type": "code",
   "execution_count": 7,
   "metadata": {},
   "outputs": [],
   "source": [
    "# import data\n",
    "facebook = pd.read_csv('./data/facebook_clean.csv')\n",
    "twitter = pd.read_csv('./data/twitter_clean.csv')\n",
    "instagram = pd.read_csv('./data/instagram_clean.csv')\n",
    "linkedin = pd.read_csv('./data/linkedin_clean.csv')"
   ]
  },
  {
   "cell_type": "code",
   "execution_count": 8,
   "metadata": {},
   "outputs": [
    {
     "name": "stdout",
     "output_type": "stream",
     "text": [
      "facebook (8893, 45)\n",
      "instagram (8516, 15)\n",
      "linkedin (6332, 16)\n",
      "twitter (7841, 26)\n"
     ]
    }
   ],
   "source": [
    "# Check dataframe dimensions\n",
    "def print_df_shapes(dfs):\n",
    "    for name, df in dfs.items():\n",
    "        print(f\"{name} ({df.shape[0]}, {df.shape[1]})\")\n",
    "\n",
    "# dataframes dictionary\n",
    "dataframes = {'facebook': facebook, 'instagram': instagram, 'linkedin': linkedin, 'twitter': twitter}\n",
    "\n",
    "print_df_shapes(dataframes)"
   ]
  },
  {
   "cell_type": "code",
   "execution_count": 10,
   "metadata": {},
   "outputs": [],
   "source": [
    "# Create a copy of the dataframes\n",
    "facebook_copy = facebook.copy()\n",
    "instagram_copy = instagram.copy()\n",
    "linkedin_copy = linkedin.copy()\n",
    "twitter_copy = twitter.copy()"
   ]
  },
  {
   "cell_type": "code",
   "execution_count": 16,
   "metadata": {},
   "outputs": [],
   "source": [
    "# return all similar columns in the four dataframes\n",
    "def similar_columns(df1, df2, df3, df4):\n",
    "    df1_cols = df1.columns\n",
    "    df2_cols = df2.columns\n",
    "    df3_cols = df3.columns\n",
    "    df4_cols = df4.columns\n",
    "    similar_cols = []\n",
    "    for col in df1_cols:\n",
    "        if col in df2_cols and col in df3_cols and col in df4_cols:\n",
    "            similar_cols.append(col)\n",
    "    return similar_cols"
   ]
  },
  {
   "cell_type": "code",
   "execution_count": 19,
   "metadata": {},
   "outputs": [
    {
     "name": "stdout",
     "output_type": "stream",
     "text": [
      "['Date', 'Network', 'Content Type', 'Sent by', 'Post', 'Impressions', 'Engagement Rate (per Impression)', 'Engagements', 'Reactions', 'Likes', 'Comments']\n"
     ]
    }
   ],
   "source": [
    "selected_columns = similar_columns(facebook, instagram, twitter, linkedin)\n",
    "print(selected_columns)"
   ]
  },
  {
   "cell_type": "code",
   "execution_count": 20,
   "metadata": {},
   "outputs": [],
   "source": [
    "# Select similar columns in the four dataframes\n",
    "facebook_select = facebook[selected_columns]\n",
    "twitter_select = twitter[selected_columns]\n",
    "instagram_select = instagram[selected_columns]\n",
    "linkedin_select = linkedin[selected_columns]"
   ]
  },
  {
   "cell_type": "code",
   "execution_count": 21,
   "metadata": {},
   "outputs": [],
   "source": [
    "# Concatenate the four dataframes\n",
    "social_media = pd.concat([facebook_select, twitter_select, instagram_select, linkedin_select]).reset_index(drop = True)"
   ]
  },
  {
   "cell_type": "code",
   "execution_count": 25,
   "metadata": {},
   "outputs": [
    {
     "name": "stdout",
     "output_type": "stream",
     "text": [
      "Rows: 31582\n",
      "Columns: 11\n"
     ]
    }
   ],
   "source": [
    "print('Rows:', social_media.shape[0])\n",
    "print('Columns:', social_media.shape[1])"
   ]
  },
  {
   "cell_type": "code",
   "execution_count": 29,
   "metadata": {},
   "outputs": [
    {
     "data": {
      "text/html": [
       "<div>\n",
       "<style scoped>\n",
       "    .dataframe tbody tr th:only-of-type {\n",
       "        vertical-align: middle;\n",
       "    }\n",
       "\n",
       "    .dataframe tbody tr th {\n",
       "        vertical-align: top;\n",
       "    }\n",
       "\n",
       "    .dataframe thead th {\n",
       "        text-align: right;\n",
       "    }\n",
       "</style>\n",
       "<table border=\"1\" class=\"dataframe\">\n",
       "  <thead>\n",
       "    <tr style=\"text-align: right;\">\n",
       "      <th></th>\n",
       "      <th>data_type</th>\n",
       "    </tr>\n",
       "  </thead>\n",
       "  <tbody>\n",
       "    <tr>\n",
       "      <th>Date</th>\n",
       "      <td>object</td>\n",
       "    </tr>\n",
       "    <tr>\n",
       "      <th>Network</th>\n",
       "      <td>object</td>\n",
       "    </tr>\n",
       "    <tr>\n",
       "      <th>Content Type</th>\n",
       "      <td>object</td>\n",
       "    </tr>\n",
       "    <tr>\n",
       "      <th>Sent by</th>\n",
       "      <td>object</td>\n",
       "    </tr>\n",
       "    <tr>\n",
       "      <th>Post</th>\n",
       "      <td>object</td>\n",
       "    </tr>\n",
       "    <tr>\n",
       "      <th>Impressions</th>\n",
       "      <td>float64</td>\n",
       "    </tr>\n",
       "    <tr>\n",
       "      <th>Engagement Rate (per Impression)</th>\n",
       "      <td>float64</td>\n",
       "    </tr>\n",
       "    <tr>\n",
       "      <th>Engagements</th>\n",
       "      <td>float64</td>\n",
       "    </tr>\n",
       "    <tr>\n",
       "      <th>Reactions</th>\n",
       "      <td>float64</td>\n",
       "    </tr>\n",
       "    <tr>\n",
       "      <th>Likes</th>\n",
       "      <td>float64</td>\n",
       "    </tr>\n",
       "    <tr>\n",
       "      <th>Comments</th>\n",
       "      <td>float64</td>\n",
       "    </tr>\n",
       "  </tbody>\n",
       "</table>\n",
       "</div>"
      ],
      "text/plain": [
       "                                 data_type\n",
       "Date                                object\n",
       "Network                             object\n",
       "Content Type                        object\n",
       "Sent by                             object\n",
       "Post                                object\n",
       "Impressions                        float64\n",
       "Engagement Rate (per Impression)   float64\n",
       "Engagements                        float64\n",
       "Reactions                          float64\n",
       "Likes                              float64\n",
       "Comments                           float64"
      ]
     },
     "execution_count": 29,
     "metadata": {},
     "output_type": "execute_result"
    }
   ],
   "source": [
    "# check the data types of the columns\n",
    "pd.DataFrame(social_media.dtypes, columns=['data_type'])"
   ]
  },
  {
   "cell_type": "code",
   "execution_count": 26,
   "metadata": {},
   "outputs": [
    {
     "data": {
      "text/plain": [
       "Date                                   0\n",
       "Network                                0\n",
       "Content Type                           0\n",
       "Sent by                                0\n",
       "Post                                 190\n",
       "Impressions                            0\n",
       "Engagement Rate (per Impression)    1433\n",
       "Engagements                            0\n",
       "Reactions                              0\n",
       "Likes                                  0\n",
       "Comments                               0\n",
       "dtype: int64"
      ]
     },
     "execution_count": 26,
     "metadata": {},
     "output_type": "execute_result"
    }
   ],
   "source": [
    "# check for missing values\n",
    "social_media.isnull().sum()"
   ]
  },
  {
   "cell_type": "code",
   "execution_count": 48,
   "metadata": {},
   "outputs": [
    {
     "data": {
      "text/plain": [
       "Facebook     1149\n",
       "Instagram     284\n",
       "Name: Network, dtype: int64"
      ]
     },
     "execution_count": 48,
     "metadata": {},
     "output_type": "execute_result"
    }
   ],
   "source": [
    "social_media[social_media['Engagement Rate (per Impression)'].isnull()]['Network'].value_counts()"
   ]
  },
  {
   "cell_type": "code",
   "execution_count": null,
   "metadata": {},
   "outputs": [],
   "source": []
  },
  {
   "cell_type": "markdown",
   "metadata": {},
   "source": [
    "### Facebook Advertisement analysis\n",
    "\n",
    "This section aims to check the performance of promoted content against non-promoted content"
   ]
  },
  {
   "cell_type": "code",
   "execution_count": 13,
   "metadata": {},
   "outputs": [],
   "source": [
    "post_with_ads = facebook[(facebook['Impressions'] != facebook['Organic Impressions'])]"
   ]
  },
  {
   "cell_type": "code",
   "execution_count": 14,
   "metadata": {},
   "outputs": [
    {
     "data": {
      "text/html": [
       "<div>\n",
       "<style scoped>\n",
       "    .dataframe tbody tr th:only-of-type {\n",
       "        vertical-align: middle;\n",
       "    }\n",
       "\n",
       "    .dataframe tbody tr th {\n",
       "        vertical-align: top;\n",
       "    }\n",
       "\n",
       "    .dataframe thead th {\n",
       "        text-align: right;\n",
       "    }\n",
       "</style>\n",
       "<table border=\"1\" class=\"dataframe\">\n",
       "  <thead>\n",
       "    <tr style=\"text-align: right;\">\n",
       "      <th></th>\n",
       "      <th>Date</th>\n",
       "      <th>Network</th>\n",
       "      <th>Content Type</th>\n",
       "      <th>Sent by</th>\n",
       "      <th>Post</th>\n",
       "      <th>Impressions</th>\n",
       "      <th>Organic Impressions</th>\n",
       "      <th>Viral Impressions</th>\n",
       "      <th>Non-viral Impressions</th>\n",
       "      <th>Fan Impressions</th>\n",
       "      <th>Fan Organic Impressions</th>\n",
       "      <th>Non-fan Impressions</th>\n",
       "      <th>Non-fan Organic Impressions</th>\n",
       "      <th>Reach</th>\n",
       "      <th>Organic Reach</th>\n",
       "      <th>Viral Reach</th>\n",
       "      <th>Non-viral Reach</th>\n",
       "      <th>Fan Reach</th>\n",
       "      <th>Engagement Rate (per Impression)</th>\n",
       "      <th>Engagement Rate (per Reach)</th>\n",
       "      <th>Engagements</th>\n",
       "      <th>Reactions</th>\n",
       "      <th>Likes</th>\n",
       "      <th>Love Reactions</th>\n",
       "      <th>Haha Reactions</th>\n",
       "      <th>Wow Reactions</th>\n",
       "      <th>Sad Reactions</th>\n",
       "      <th>Angry Reactions</th>\n",
       "      <th>Comments</th>\n",
       "      <th>Shares</th>\n",
       "      <th>Click-Through Rate</th>\n",
       "      <th>Other Post Clicks</th>\n",
       "      <th>Post Clicks (All)</th>\n",
       "      <th>Answers</th>\n",
       "      <th>Negative Feedback</th>\n",
       "      <th>Engaged Users</th>\n",
       "      <th>Engaged Fans</th>\n",
       "      <th>Users Talking About This</th>\n",
       "      <th>Unique Reactions</th>\n",
       "      <th>Unique Comments</th>\n",
       "      <th>Unique Shares</th>\n",
       "      <th>Unique Answers</th>\n",
       "      <th>Unique Post Clicks</th>\n",
       "      <th>Unique Other Post Clicks</th>\n",
       "      <th>Unique Negative Feedback</th>\n",
       "    </tr>\n",
       "  </thead>\n",
       "  <tbody>\n",
       "    <tr>\n",
       "      <th>12</th>\n",
       "      <td>2017-09-17 11:37:00</td>\n",
       "      <td>Facebook</td>\n",
       "      <td>Photo</td>\n",
       "      <td>Unknown</td>\n",
       "      <td>This EPL #Supersunday, it's the Blues against ...</td>\n",
       "      <td>95300.0</td>\n",
       "      <td>59484.0</td>\n",
       "      <td>35816.0</td>\n",
       "      <td>59484.0</td>\n",
       "      <td>57181.0</td>\n",
       "      <td>57181.0</td>\n",
       "      <td>38119.0</td>\n",
       "      <td>2303.0</td>\n",
       "      <td>56094.0</td>\n",
       "      <td>38717.0</td>\n",
       "      <td>18384.0</td>\n",
       "      <td>38717.0</td>\n",
       "      <td>35590.0</td>\n",
       "      <td>5.49</td>\n",
       "      <td>9.32</td>\n",
       "      <td>5230.0</td>\n",
       "      <td>641.0</td>\n",
       "      <td>631.0</td>\n",
       "      <td>6.0</td>\n",
       "      <td>0.0</td>\n",
       "      <td>4.0</td>\n",
       "      <td>0.0</td>\n",
       "      <td>0.0</td>\n",
       "      <td>1050.0</td>\n",
       "      <td>96.0</td>\n",
       "      <td>0.0</td>\n",
       "      <td>3443.0</td>\n",
       "      <td>3443.0</td>\n",
       "      <td>0.0</td>\n",
       "      <td>7.0</td>\n",
       "      <td>2431.0</td>\n",
       "      <td>1974.0</td>\n",
       "      <td>1398.0</td>\n",
       "      <td>620.0</td>\n",
       "      <td>955.0</td>\n",
       "      <td>95.0</td>\n",
       "      <td>0.0</td>\n",
       "      <td>1948.0</td>\n",
       "      <td>1628.0</td>\n",
       "      <td>6.0</td>\n",
       "    </tr>\n",
       "    <tr>\n",
       "      <th>15</th>\n",
       "      <td>2019-09-03 11:43:00</td>\n",
       "      <td>Facebook</td>\n",
       "      <td>Photo</td>\n",
       "      <td>Aramide Salami</td>\n",
       "      <td>Every human life is a precious gift to humanit...</td>\n",
       "      <td>70855.0</td>\n",
       "      <td>70787.0</td>\n",
       "      <td>35336.0</td>\n",
       "      <td>35449.0</td>\n",
       "      <td>37836.0</td>\n",
       "      <td>37836.0</td>\n",
       "      <td>33019.0</td>\n",
       "      <td>32951.0</td>\n",
       "      <td>52185.0</td>\n",
       "      <td>52185.0</td>\n",
       "      <td>24829.0</td>\n",
       "      <td>29127.0</td>\n",
       "      <td>30207.0</td>\n",
       "      <td>5.25</td>\n",
       "      <td>7.12</td>\n",
       "      <td>3717.0</td>\n",
       "      <td>669.0</td>\n",
       "      <td>622.0</td>\n",
       "      <td>23.0</td>\n",
       "      <td>2.0</td>\n",
       "      <td>0.0</td>\n",
       "      <td>2.0</td>\n",
       "      <td>20.0</td>\n",
       "      <td>186.0</td>\n",
       "      <td>187.0</td>\n",
       "      <td>0.0</td>\n",
       "      <td>2675.0</td>\n",
       "      <td>2675.0</td>\n",
       "      <td>0.0</td>\n",
       "      <td>1.0</td>\n",
       "      <td>2573.0</td>\n",
       "      <td>1591.0</td>\n",
       "      <td>852.0</td>\n",
       "      <td>649.0</td>\n",
       "      <td>120.0</td>\n",
       "      <td>170.0</td>\n",
       "      <td>0.0</td>\n",
       "      <td>1993.0</td>\n",
       "      <td>1679.0</td>\n",
       "      <td>1.0</td>\n",
       "    </tr>\n",
       "  </tbody>\n",
       "</table>\n",
       "</div>"
      ],
      "text/plain": [
       "                   Date   Network Content Type         Sent by  \\\n",
       "12  2017-09-17 11:37:00  Facebook        Photo         Unknown   \n",
       "15  2019-09-03 11:43:00  Facebook        Photo  Aramide Salami   \n",
       "\n",
       "                                                 Post  Impressions  \\\n",
       "12  This EPL #Supersunday, it's the Blues against ...      95300.0   \n",
       "15  Every human life is a precious gift to humanit...      70855.0   \n",
       "\n",
       "    Organic Impressions  Viral Impressions  Non-viral Impressions  \\\n",
       "12              59484.0            35816.0                59484.0   \n",
       "15              70787.0            35336.0                35449.0   \n",
       "\n",
       "    Fan Impressions  Fan Organic Impressions  Non-fan Impressions  \\\n",
       "12          57181.0                  57181.0              38119.0   \n",
       "15          37836.0                  37836.0              33019.0   \n",
       "\n",
       "    Non-fan Organic Impressions    Reach  Organic Reach  Viral Reach  \\\n",
       "12                       2303.0  56094.0        38717.0      18384.0   \n",
       "15                      32951.0  52185.0        52185.0      24829.0   \n",
       "\n",
       "    Non-viral Reach  Fan Reach  Engagement Rate (per Impression)  \\\n",
       "12          38717.0    35590.0                              5.49   \n",
       "15          29127.0    30207.0                              5.25   \n",
       "\n",
       "    Engagement Rate (per Reach)  Engagements  Reactions  Likes  \\\n",
       "12                         9.32       5230.0      641.0  631.0   \n",
       "15                         7.12       3717.0      669.0  622.0   \n",
       "\n",
       "    Love Reactions  Haha Reactions  Wow Reactions  Sad Reactions  \\\n",
       "12             6.0             0.0            4.0            0.0   \n",
       "15            23.0             2.0            0.0            2.0   \n",
       "\n",
       "    Angry Reactions  Comments  Shares  Click-Through Rate  Other Post Clicks  \\\n",
       "12              0.0    1050.0    96.0                 0.0             3443.0   \n",
       "15             20.0     186.0   187.0                 0.0             2675.0   \n",
       "\n",
       "    Post Clicks (All)  Answers  Negative Feedback  Engaged Users  \\\n",
       "12             3443.0      0.0                7.0         2431.0   \n",
       "15             2675.0      0.0                1.0         2573.0   \n",
       "\n",
       "    Engaged Fans  Users Talking About This  Unique Reactions  Unique Comments  \\\n",
       "12        1974.0                    1398.0             620.0            955.0   \n",
       "15        1591.0                     852.0             649.0            120.0   \n",
       "\n",
       "    Unique Shares  Unique Answers  Unique Post Clicks  \\\n",
       "12           95.0             0.0              1948.0   \n",
       "15          170.0             0.0              1993.0   \n",
       "\n",
       "    Unique Other Post Clicks  Unique Negative Feedback  \n",
       "12                    1628.0                       6.0  \n",
       "15                    1679.0                       1.0  "
      ]
     },
     "execution_count": 14,
     "metadata": {},
     "output_type": "execute_result"
    }
   ],
   "source": [
    "post_with_ads.head(2)"
   ]
  },
  {
   "cell_type": "code",
   "execution_count": 33,
   "metadata": {},
   "outputs": [
    {
     "name": "stdout",
     "output_type": "stream",
     "text": [
      "There are 244 promotted with ads\n"
     ]
    }
   ],
   "source": [
    "print(f'There are {post_with_ads.shape[0]} promotted with ads')"
   ]
  },
  {
   "cell_type": "code",
   "execution_count": 34,
   "metadata": {},
   "outputs": [],
   "source": [
    "post_without_ads = facebook[(facebook['Impressions'] == facebook['Organic Impressions'])]"
   ]
  },
  {
   "cell_type": "code",
   "execution_count": 38,
   "metadata": {},
   "outputs": [],
   "source": [
    "# check post with ads by year\n",
    "post_with_ads['year'] = post_with_ads['Posted'].dt.year"
   ]
  },
  {
   "cell_type": "code",
   "execution_count": 36,
   "metadata": {},
   "outputs": [
    {
     "name": "stdout",
     "output_type": "stream",
     "text": [
      "There are 8649 posts without ads\n"
     ]
    }
   ],
   "source": [
    "print(f'There are {post_without_ads.shape[0]} posts without ads')"
   ]
  },
  {
   "cell_type": "code",
   "execution_count": 37,
   "metadata": {},
   "outputs": [
    {
     "data": {
      "text/plain": [
       "Photo    7615\n",
       "Video     909\n",
       "Text      275\n",
       "Link       94\n",
       "Name: Content Type, dtype: int64"
      ]
     },
     "execution_count": 37,
     "metadata": {},
     "output_type": "execute_result"
    }
   ],
   "source": [
    "facebook['Content Type'].value_counts() "
   ]
  },
  {
   "cell_type": "code",
   "execution_count": 39,
   "metadata": {},
   "outputs": [
    {
     "data": {
      "text/plain": [
       "0.34500000000000003"
      ]
     },
     "execution_count": 39,
     "metadata": {},
     "output_type": "execute_result"
    }
   ],
   "source": [
    "#compare ctr of post with ads and post without ads\n",
    "post_with_ads[post_with_ads['Content Type'] == 'Link']['Click-Through Rate'].mean()"
   ]
  },
  {
   "cell_type": "code",
   "execution_count": 40,
   "metadata": {},
   "outputs": [
    {
     "data": {
      "text/plain": [
       "0.39568181818181825"
      ]
     },
     "execution_count": 40,
     "metadata": {},
     "output_type": "execute_result"
    }
   ],
   "source": [
    "#compare ctr of post with ads and post without ads\n",
    "post_without_ads[post_without_ads['Content Type'] == 'Link']['Click-Through Rate'].mean()"
   ]
  },
  {
   "cell_type": "code",
   "execution_count": null,
   "metadata": {},
   "outputs": [
    {
     "data": {
      "text/html": [
       "<div>\n",
       "<style scoped>\n",
       "    .dataframe tbody tr th:only-of-type {\n",
       "        vertical-align: middle;\n",
       "    }\n",
       "\n",
       "    .dataframe tbody tr th {\n",
       "        vertical-align: top;\n",
       "    }\n",
       "\n",
       "    .dataframe thead th {\n",
       "        text-align: right;\n",
       "    }\n",
       "</style>\n",
       "<table border=\"1\" class=\"dataframe\">\n",
       "  <thead>\n",
       "    <tr style=\"text-align: right;\">\n",
       "      <th></th>\n",
       "      <th>0</th>\n",
       "    </tr>\n",
       "  </thead>\n",
       "  <tbody>\n",
       "    <tr>\n",
       "      <th>Engagement Rate (per Impression)</th>\n",
       "      <td>6.646311</td>\n",
       "    </tr>\n",
       "    <tr>\n",
       "      <th>Engagement Rate (per Reach)</th>\n",
       "      <td>9.463443</td>\n",
       "    </tr>\n",
       "  </tbody>\n",
       "</table>\n",
       "</div>"
      ],
      "text/plain": [
       "                                         0\n",
       "Engagement Rate (per Impression)  6.646311\n",
       "Engagement Rate (per Reach)       9.463443"
      ]
     },
     "metadata": {},
     "output_type": "display_data"
    }
   ],
   "source": [
    "# compare engagement of post with ads and post with ads\n",
    "pd.DataFrame(post_with_ads[['Engagement Rate (per Impression)', 'Engagement Rate (per Reach)']].mean())"
   ]
  },
  {
   "cell_type": "code",
   "execution_count": 41,
   "metadata": {},
   "outputs": [
    {
     "data": {
      "text/html": [
       "<div>\n",
       "<style scoped>\n",
       "    .dataframe tbody tr th:only-of-type {\n",
       "        vertical-align: middle;\n",
       "    }\n",
       "\n",
       "    .dataframe tbody tr th {\n",
       "        vertical-align: top;\n",
       "    }\n",
       "\n",
       "    .dataframe thead th {\n",
       "        text-align: right;\n",
       "    }\n",
       "</style>\n",
       "<table border=\"1\" class=\"dataframe\">\n",
       "  <thead>\n",
       "    <tr style=\"text-align: right;\">\n",
       "      <th></th>\n",
       "      <th>0</th>\n",
       "    </tr>\n",
       "  </thead>\n",
       "  <tbody>\n",
       "    <tr>\n",
       "      <th>Engagement Rate (per Impression)</th>\n",
       "      <td>5.180753</td>\n",
       "    </tr>\n",
       "    <tr>\n",
       "      <th>Engagement Rate (per Reach)</th>\n",
       "      <td>5.504623</td>\n",
       "    </tr>\n",
       "  </tbody>\n",
       "</table>\n",
       "</div>"
      ],
      "text/plain": [
       "                                         0\n",
       "Engagement Rate (per Impression)  5.180753\n",
       "Engagement Rate (per Reach)       5.504623"
      ]
     },
     "execution_count": 41,
     "metadata": {},
     "output_type": "execute_result"
    }
   ],
   "source": [
    "# compare engagement of post with ads and post without ads\n",
    "pd.DataFrame(post_without_ads[['Engagement Rate (per Impression)', 'Engagement Rate (per Reach)']].mean())"
   ]
  },
  {
   "cell_type": "code",
   "execution_count": null,
   "metadata": {},
   "outputs": [],
   "source": []
  }
 ],
 "metadata": {
  "kernelspec": {
   "display_name": "base",
   "language": "python",
   "name": "python3"
  },
  "language_info": {
   "name": "python",
   "version": "3.9.13"
  }
 },
 "nbformat": 4,
 "nbformat_minor": 2
}
