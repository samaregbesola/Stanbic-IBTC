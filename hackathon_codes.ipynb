{
 "cells": [
  {
   "cell_type": "code",
   "execution_count": null,
   "metadata": {},
   "outputs": [],
   "source": [
    "# imports\n",
    "import pandas as pd # library for data manipulation and analysis\n",
    "import numpy as np # library for scientific computing\n",
    "import matplotlib.pyplot as plt # library for visualizing data\n",
    "import seaborn as sns # library for visualizing data\n",
    "import missingno as msno # library for visualizing missing values\n",
    "\n",
    "import warnings # library to ignore warnings\n",
    "warnings.filterwarnings('ignore')\n",
    "\n",
    "# set option to display all the columns of the dataframe\n",
    "pd.set_option('display.max_columns', None)"
   ]
  },
  {
   "cell_type": "code",
   "execution_count": null,
   "metadata": {},
   "outputs": [],
   "source": []
  }
 ],
 "metadata": {
  "kernelspec": {
   "display_name": "base",
   "language": "python",
   "name": "python3"
  },
  "language_info": {
   "name": "python",
   "version": "3.9.13"
  }
 },
 "nbformat": 4,
 "nbformat_minor": 2
}
