{
 "cells": [
  {
   "cell_type": "markdown",
   "metadata": {},
   "source": [
    "# Hack the Feed: Insights from Social Media Data\n",
    "\n",
    "**Author:** Aregbesola Samuel "
   ]
  },
  {
   "cell_type": "code",
   "execution_count": 1,
   "metadata": {},
   "outputs": [],
   "source": [
    "# Additional libraries installs\n",
    "# %pip install missingno"
   ]
  },
  {
   "cell_type": "code",
   "execution_count": 2,
   "metadata": {},
   "outputs": [],
   "source": [
    "# imports\n",
    "import pandas as pd # library for data manipulation and analysis\n",
    "import numpy as np # library for scientific computing\n",
    "import matplotlib.pyplot as plt # library for visualizing data\n",
    "import seaborn as sns # library for visualizing data\n",
    "import missingno as msno # library for visualizing missing values\n",
    "\n",
    "import warnings # library to ignore warnings\n",
    "warnings.filterwarnings('ignore')\n",
    "\n",
    "# set option to display all the columns of the dataframe\n",
    "pd.set_option('display.max_columns', None)"
   ]
  },
  {
   "cell_type": "code",
   "execution_count": 3,
   "metadata": {},
   "outputs": [],
   "source": [
    "# import data\n",
    "facebook = pd.read_csv('./data/Post Performance (Stanbic IBTC) January 1, 2013 - July 13, 2023_Facebook.csv')\n",
    "instagram = pd.read_csv('./data/Post Performance (Stanbic IBTC) January 1, 2013 - July 13, 2023_Instagram.csv')\n",
    "linkedin = pd.read_csv('./data/Post Performance (Stanbic IBTC) January 1, 2013 - July 13, 2023_LinkedIn.csv')\n",
    "twitter = pd.read_csv('./data/Post Performance (Stanbic IBTC) January 1, 2013 - July 13, 2023_Twitter.csv')"
   ]
  },
  {
   "cell_type": "code",
   "execution_count": 9,
   "metadata": {},
   "outputs": [
    {
     "name": "stdout",
     "output_type": "stream",
     "text": [
      "(9803, 57)\n",
      "(10000, 20)\n",
      "(7760, 21)\n",
      "(8529, 34)\n"
     ]
    }
   ],
   "source": [
    "# Check dataframe dimensions\n",
    "print(facebook.shape)\n",
    "print(instagram.shape)\n",
    "print(linkedin.shape)\n",
    "print(twitter.shape)"
   ]
  },
  {
   "cell_type": "code",
   "execution_count": 12,
   "metadata": {},
   "outputs": [],
   "source": [
    "# Create a copy of the dataframes\n",
    "facebook_copy = facebook.copy()\n",
    "instagram_copy = instagram.copy()\n",
    "linkedin_copy = linkedin.copy()\n",
    "twitter_copy = twitter.copy()"
   ]
  },
  {
   "cell_type": "markdown",
   "metadata": {},
   "source": [
    "---\n",
    "## Data Cleaning\n",
    "\n",
    "In this section, we will try to fix quality issues including but not limited to \n",
    "\n",
    "* Dropping columns where 80% of observations are missing/null because they are not useful for the analysis.\n",
    "* Check for duplicates\n",
    "* Fix issues with missing observations\n",
    "* Fix issues with wrong datatypes\n",
    "* Fix issues with inconsistent / wrong formatting\n"
   ]
  },
  {
   "cell_type": "code",
   "execution_count": 13,
   "metadata": {},
   "outputs": [],
   "source": [
    "# Helper function\n",
    "def delete_80_null(df):\n",
    "    \"\"\"\n",
    "    This function will delete columns with atleast 80% null values\n",
    "    \"\"\"\n",
    "    # get columns where null values are >= 80%\n",
    "    null_columns = list(df.columns[df.isnull().sum() >= 0.8*len(df)])\n",
    "    # get the columns that are not in the null_columns\n",
    "    df = df[[col for col in df.columns if col not in null_columns]]\n",
    "    # return the dataframe\n",
    "    return df"
   ]
  },
  {
   "cell_type": "code",
   "execution_count": 16,
   "metadata": {},
   "outputs": [],
   "source": [
    "# Helper function\n",
    "def check_missing(df):\n",
    "    \"\"\"\n",
    "    This function will check for missing values in the dataframe\n",
    "    \"\"\"\n",
    "    # get the total number of missing values\n",
    "    total = df.isnull().sum().sort_values(ascending=False)\n",
    "    # get the percentage of missing values\n",
    "    percent = round((df.isnull().sum()/df.isnull().count()*100),2).sort_values(ascending=False)\n",
    "    # create a dataframe of the missing values\n",
    "    missing_data = pd.concat([total, percent], axis=1, keys=['Total', 'Percent'])\n",
    "    # return the dataframe\n",
    "    return missing_data"
   ]
  },
  {
   "cell_type": "code",
   "execution_count": 20,
   "metadata": {},
   "outputs": [],
   "source": [
    "# Helper function\n",
    "def remove_percent(df):\n",
    "    \"\"\"\n",
    "    This function will remove the percent sign from the dataframe\n",
    "    \"\"\"\n",
    "    # get the columns with percent sign\n",
    "    percent_columns = [col for col in df.columns if '%' in col]\n",
    "    # remove the percent sign\n",
    "    for col in percent_columns:\n",
    "        df[col] = df[col].str.replace('%', '')\n",
    "    # return the dataframe\n",
    "    return df"
   ]
  },
  {
   "cell_type": "code",
   "execution_count": null,
   "metadata": {},
   "outputs": [],
   "source": [
    "# Helper function\n",
    "def convert_date(df):\n",
    "    \"\"\"\n",
    "    This function will convert the date column to datetime format\n",
    "    \"\"\"\n",
    "    # convert the date column to datetime format\n",
    "    df['Date'] = pd.to_datetime(df['Date'])\n",
    "    # return the dataframe\n",
    "    return df"
   ]
  },
  {
   "cell_type": "code",
   "execution_count": null,
   "metadata": {},
   "outputs": [],
   "source": [
    "# Helper function\n",
    "def convert_numeric(df):\n",
    "    \"\"\"\n",
    "    This function will convert the columns to numeric\n",
    "    \"\"\"\n",
    "    # get the columns with percent sign\n",
    "    numeric_columns = [col for col in df.columns if df[col].dtype == 'object']\n",
    "    # convert the columns to numeric\n",
    "    for col in numeric_columns:\n",
    "        df[col] = pd.to_numeric(df[col])\n",
    "    # return the dataframe\n",
    "    return df"
   ]
  },
  {
   "cell_type": "code",
   "execution_count": 22,
   "metadata": {},
   "outputs": [],
   "source": [
    "# Helper function\n",
    "def convert_category(df):\n",
    "    \"\"\"\n",
    "    This function will convert the columns to category\n",
    "    \"\"\"\n",
    "    # get the columns with percent sign\n",
    "    category_columns = [col for col in df.columns if df[col].dtype == 'object']\n",
    "    # convert the columns to category\n",
    "    for col in category_columns:\n",
    "        df[col] = df[col].astype('category')\n",
    "    # return the dataframe\n",
    "    return df"
   ]
  },
  {
   "cell_type": "code",
   "execution_count": 17,
   "metadata": {},
   "outputs": [
    {
     "name": "stdout",
     "output_type": "stream",
     "text": [
      "(9803, 57)\n",
      "(10000, 20)\n",
      "(7760, 21)\n",
      "(8529, 34)\n"
     ]
    }
   ],
   "source": [
    "# delete columns with atleast 80% null values\n",
    "facebook = delete_80_null(facebook)\n",
    "instagram = delete_80_null(instagram)\n",
    "linkedin = delete_80_null(linkedin)\n",
    "twitter = delete_80_null(twitter)\n",
    "\n",
    "# Check new dataframe dimensions\n",
    "print(facebook.shape)\n",
    "print(instagram.shape)\n",
    "print(linkedin.shape)\n",
    "print(twitter.shape)"
   ]
  },
  {
   "cell_type": "code",
   "execution_count": 18,
   "metadata": {},
   "outputs": [
    {
     "data": {
      "text/html": [
       "<div>\n",
       "<style scoped>\n",
       "    .dataframe tbody tr th:only-of-type {\n",
       "        vertical-align: middle;\n",
       "    }\n",
       "\n",
       "    .dataframe tbody tr th {\n",
       "        vertical-align: top;\n",
       "    }\n",
       "\n",
       "    .dataframe thead th {\n",
       "        text-align: right;\n",
       "    }\n",
       "</style>\n",
       "<table border=\"1\" class=\"dataframe\">\n",
       "  <thead>\n",
       "    <tr style=\"text-align: right;\">\n",
       "      <th></th>\n",
       "      <th>Total</th>\n",
       "      <th>Percent</th>\n",
       "    </tr>\n",
       "  </thead>\n",
       "  <tbody>\n",
       "    <tr>\n",
       "      <th>Post Photo View Clicks</th>\n",
       "      <td>2122</td>\n",
       "      <td>21.65</td>\n",
       "    </tr>\n",
       "    <tr>\n",
       "      <th>Unique Post Photo View Clicks</th>\n",
       "      <td>2122</td>\n",
       "      <td>21.65</td>\n",
       "    </tr>\n",
       "    <tr>\n",
       "      <th>Engagement Rate (per Reach)</th>\n",
       "      <td>2062</td>\n",
       "      <td>21.03</td>\n",
       "    </tr>\n",
       "    <tr>\n",
       "      <th>Engagement Rate (per Impression)</th>\n",
       "      <td>2059</td>\n",
       "      <td>21.00</td>\n",
       "    </tr>\n",
       "    <tr>\n",
       "      <th>Unique Post Clicks</th>\n",
       "      <td>910</td>\n",
       "      <td>9.28</td>\n",
       "    </tr>\n",
       "    <tr>\n",
       "      <th>Unique Answers</th>\n",
       "      <td>910</td>\n",
       "      <td>9.28</td>\n",
       "    </tr>\n",
       "    <tr>\n",
       "      <th>Reactions</th>\n",
       "      <td>910</td>\n",
       "      <td>9.28</td>\n",
       "    </tr>\n",
       "    <tr>\n",
       "      <th>Likes</th>\n",
       "      <td>910</td>\n",
       "      <td>9.28</td>\n",
       "    </tr>\n",
       "    <tr>\n",
       "      <th>Love Reactions</th>\n",
       "      <td>910</td>\n",
       "      <td>9.28</td>\n",
       "    </tr>\n",
       "    <tr>\n",
       "      <th>Haha Reactions</th>\n",
       "      <td>910</td>\n",
       "      <td>9.28</td>\n",
       "    </tr>\n",
       "    <tr>\n",
       "      <th>Wow Reactions</th>\n",
       "      <td>910</td>\n",
       "      <td>9.28</td>\n",
       "    </tr>\n",
       "    <tr>\n",
       "      <th>Sad Reactions</th>\n",
       "      <td>910</td>\n",
       "      <td>9.28</td>\n",
       "    </tr>\n",
       "    <tr>\n",
       "      <th>Angry Reactions</th>\n",
       "      <td>910</td>\n",
       "      <td>9.28</td>\n",
       "    </tr>\n",
       "    <tr>\n",
       "      <th>Comments</th>\n",
       "      <td>910</td>\n",
       "      <td>9.28</td>\n",
       "    </tr>\n",
       "    <tr>\n",
       "      <th>Shares</th>\n",
       "      <td>910</td>\n",
       "      <td>9.28</td>\n",
       "    </tr>\n",
       "    <tr>\n",
       "      <th>Click-Through Rate</th>\n",
       "      <td>910</td>\n",
       "      <td>9.28</td>\n",
       "    </tr>\n",
       "    <tr>\n",
       "      <th>Other Post Clicks</th>\n",
       "      <td>910</td>\n",
       "      <td>9.28</td>\n",
       "    </tr>\n",
       "    <tr>\n",
       "      <th>Post Clicks (All)</th>\n",
       "      <td>910</td>\n",
       "      <td>9.28</td>\n",
       "    </tr>\n",
       "    <tr>\n",
       "      <th>Unique Other Post Clicks</th>\n",
       "      <td>910</td>\n",
       "      <td>9.28</td>\n",
       "    </tr>\n",
       "    <tr>\n",
       "      <th>Answers</th>\n",
       "      <td>910</td>\n",
       "      <td>9.28</td>\n",
       "    </tr>\n",
       "    <tr>\n",
       "      <th>Negative Feedback</th>\n",
       "      <td>910</td>\n",
       "      <td>9.28</td>\n",
       "    </tr>\n",
       "    <tr>\n",
       "      <th>Engaged Users</th>\n",
       "      <td>910</td>\n",
       "      <td>9.28</td>\n",
       "    </tr>\n",
       "    <tr>\n",
       "      <th>Engaged Fans</th>\n",
       "      <td>910</td>\n",
       "      <td>9.28</td>\n",
       "    </tr>\n",
       "    <tr>\n",
       "      <th>Users Talking About This</th>\n",
       "      <td>910</td>\n",
       "      <td>9.28</td>\n",
       "    </tr>\n",
       "    <tr>\n",
       "      <th>Unique Reactions</th>\n",
       "      <td>910</td>\n",
       "      <td>9.28</td>\n",
       "    </tr>\n",
       "    <tr>\n",
       "      <th>Unique Comments</th>\n",
       "      <td>910</td>\n",
       "      <td>9.28</td>\n",
       "    </tr>\n",
       "    <tr>\n",
       "      <th>Unique Shares</th>\n",
       "      <td>910</td>\n",
       "      <td>9.28</td>\n",
       "    </tr>\n",
       "    <tr>\n",
       "      <th>Engagements</th>\n",
       "      <td>910</td>\n",
       "      <td>9.28</td>\n",
       "    </tr>\n",
       "    <tr>\n",
       "      <th>Unique Negative Feedback</th>\n",
       "      <td>910</td>\n",
       "      <td>9.28</td>\n",
       "    </tr>\n",
       "    <tr>\n",
       "      <th>Paid Impressions</th>\n",
       "      <td>910</td>\n",
       "      <td>9.28</td>\n",
       "    </tr>\n",
       "    <tr>\n",
       "      <th>Non-fan Impressions</th>\n",
       "      <td>910</td>\n",
       "      <td>9.28</td>\n",
       "    </tr>\n",
       "    <tr>\n",
       "      <th>Impressions</th>\n",
       "      <td>910</td>\n",
       "      <td>9.28</td>\n",
       "    </tr>\n",
       "    <tr>\n",
       "      <th>Organic Impressions</th>\n",
       "      <td>910</td>\n",
       "      <td>9.28</td>\n",
       "    </tr>\n",
       "    <tr>\n",
       "      <th>Viral Impressions</th>\n",
       "      <td>910</td>\n",
       "      <td>9.28</td>\n",
       "    </tr>\n",
       "    <tr>\n",
       "      <th>Non-viral Impressions</th>\n",
       "      <td>910</td>\n",
       "      <td>9.28</td>\n",
       "    </tr>\n",
       "    <tr>\n",
       "      <th>Fan Paid Reach</th>\n",
       "      <td>910</td>\n",
       "      <td>9.28</td>\n",
       "    </tr>\n",
       "    <tr>\n",
       "      <th>Fan Impressions</th>\n",
       "      <td>910</td>\n",
       "      <td>9.28</td>\n",
       "    </tr>\n",
       "    <tr>\n",
       "      <th>Fan Organic Impressions</th>\n",
       "      <td>910</td>\n",
       "      <td>9.28</td>\n",
       "    </tr>\n",
       "    <tr>\n",
       "      <th>Fan Paid Impressions</th>\n",
       "      <td>910</td>\n",
       "      <td>9.28</td>\n",
       "    </tr>\n",
       "    <tr>\n",
       "      <th>Non-fan Organic Impressions</th>\n",
       "      <td>910</td>\n",
       "      <td>9.28</td>\n",
       "    </tr>\n",
       "    <tr>\n",
       "      <th>Non-fan Paid Impressions</th>\n",
       "      <td>910</td>\n",
       "      <td>9.28</td>\n",
       "    </tr>\n",
       "    <tr>\n",
       "      <th>Reach</th>\n",
       "      <td>910</td>\n",
       "      <td>9.28</td>\n",
       "    </tr>\n",
       "    <tr>\n",
       "      <th>Organic Reach</th>\n",
       "      <td>910</td>\n",
       "      <td>9.28</td>\n",
       "    </tr>\n",
       "    <tr>\n",
       "      <th>Viral Reach</th>\n",
       "      <td>910</td>\n",
       "      <td>9.28</td>\n",
       "    </tr>\n",
       "    <tr>\n",
       "      <th>Non-viral Reach</th>\n",
       "      <td>910</td>\n",
       "      <td>9.28</td>\n",
       "    </tr>\n",
       "    <tr>\n",
       "      <th>Paid Reach</th>\n",
       "      <td>910</td>\n",
       "      <td>9.28</td>\n",
       "    </tr>\n",
       "    <tr>\n",
       "      <th>Fan Reach</th>\n",
       "      <td>910</td>\n",
       "      <td>9.28</td>\n",
       "    </tr>\n",
       "    <tr>\n",
       "      <th>Linked Content</th>\n",
       "      <td>341</td>\n",
       "      <td>3.48</td>\n",
       "    </tr>\n",
       "    <tr>\n",
       "      <th>Post</th>\n",
       "      <td>250</td>\n",
       "      <td>2.55</td>\n",
       "    </tr>\n",
       "    <tr>\n",
       "      <th>Content Type</th>\n",
       "      <td>0</td>\n",
       "      <td>0.00</td>\n",
       "    </tr>\n",
       "    <tr>\n",
       "      <th>Network</th>\n",
       "      <td>0</td>\n",
       "      <td>0.00</td>\n",
       "    </tr>\n",
       "    <tr>\n",
       "      <th>Post Type</th>\n",
       "      <td>0</td>\n",
       "      <td>0.00</td>\n",
       "    </tr>\n",
       "    <tr>\n",
       "      <th>Post ID</th>\n",
       "      <td>0</td>\n",
       "      <td>0.00</td>\n",
       "    </tr>\n",
       "    <tr>\n",
       "      <th>Profile</th>\n",
       "      <td>0</td>\n",
       "      <td>0.00</td>\n",
       "    </tr>\n",
       "    <tr>\n",
       "      <th>Sent by</th>\n",
       "      <td>0</td>\n",
       "      <td>0.00</td>\n",
       "    </tr>\n",
       "    <tr>\n",
       "      <th>Link</th>\n",
       "      <td>0</td>\n",
       "      <td>0.00</td>\n",
       "    </tr>\n",
       "    <tr>\n",
       "      <th>Date</th>\n",
       "      <td>0</td>\n",
       "      <td>0.00</td>\n",
       "    </tr>\n",
       "  </tbody>\n",
       "</table>\n",
       "</div>"
      ],
      "text/plain": [
       "                                  Total  Percent\n",
       "Post Photo View Clicks             2122    21.65\n",
       "Unique Post Photo View Clicks      2122    21.65\n",
       "Engagement Rate (per Reach)        2062    21.03\n",
       "Engagement Rate (per Impression)   2059    21.00\n",
       "Unique Post Clicks                  910     9.28\n",
       "Unique Answers                      910     9.28\n",
       "Reactions                           910     9.28\n",
       "Likes                               910     9.28\n",
       "Love Reactions                      910     9.28\n",
       "Haha Reactions                      910     9.28\n",
       "Wow Reactions                       910     9.28\n",
       "Sad Reactions                       910     9.28\n",
       "Angry Reactions                     910     9.28\n",
       "Comments                            910     9.28\n",
       "Shares                              910     9.28\n",
       "Click-Through Rate                  910     9.28\n",
       "Other Post Clicks                   910     9.28\n",
       "Post Clicks (All)                   910     9.28\n",
       "Unique Other Post Clicks            910     9.28\n",
       "Answers                             910     9.28\n",
       "Negative Feedback                   910     9.28\n",
       "Engaged Users                       910     9.28\n",
       "Engaged Fans                        910     9.28\n",
       "Users Talking About This            910     9.28\n",
       "Unique Reactions                    910     9.28\n",
       "Unique Comments                     910     9.28\n",
       "Unique Shares                       910     9.28\n",
       "Engagements                         910     9.28\n",
       "Unique Negative Feedback            910     9.28\n",
       "Paid Impressions                    910     9.28\n",
       "Non-fan Impressions                 910     9.28\n",
       "Impressions                         910     9.28\n",
       "Organic Impressions                 910     9.28\n",
       "Viral Impressions                   910     9.28\n",
       "Non-viral Impressions               910     9.28\n",
       "Fan Paid Reach                      910     9.28\n",
       "Fan Impressions                     910     9.28\n",
       "Fan Organic Impressions             910     9.28\n",
       "Fan Paid Impressions                910     9.28\n",
       "Non-fan Organic Impressions         910     9.28\n",
       "Non-fan Paid Impressions            910     9.28\n",
       "Reach                               910     9.28\n",
       "Organic Reach                       910     9.28\n",
       "Viral Reach                         910     9.28\n",
       "Non-viral Reach                     910     9.28\n",
       "Paid Reach                          910     9.28\n",
       "Fan Reach                           910     9.28\n",
       "Linked Content                      341     3.48\n",
       "Post                                250     2.55\n",
       "Content Type                          0     0.00\n",
       "Network                               0     0.00\n",
       "Post Type                             0     0.00\n",
       "Post ID                               0     0.00\n",
       "Profile                               0     0.00\n",
       "Sent by                               0     0.00\n",
       "Link                                  0     0.00\n",
       "Date                                  0     0.00"
      ]
     },
     "execution_count": 18,
     "metadata": {},
     "output_type": "execute_result"
    }
   ],
   "source": [
    "check_missing(facebook)"
   ]
  },
  {
   "cell_type": "code",
   "execution_count": 19,
   "metadata": {},
   "outputs": [
    {
     "data": {
      "text/plain": [
       "(9803, 57)"
      ]
     },
     "execution_count": 19,
     "metadata": {},
     "output_type": "execute_result"
    }
   ],
   "source": [
    "facebook.shape"
   ]
  },
  {
   "cell_type": "code",
   "execution_count": 13,
   "metadata": {},
   "outputs": [],
   "source": [
    "# Posts with ads \n",
    "post_with_ads = facebook[(facebook['Impressions'] != facebook['Organic Impressions'])\n",
    "            ]"
   ]
  },
  {
   "cell_type": "code",
   "execution_count": 14,
   "metadata": {},
   "outputs": [
    {
     "data": {
      "text/html": [
       "<div>\n",
       "<style scoped>\n",
       "    .dataframe tbody tr th:only-of-type {\n",
       "        vertical-align: middle;\n",
       "    }\n",
       "\n",
       "    .dataframe tbody tr th {\n",
       "        vertical-align: top;\n",
       "    }\n",
       "\n",
       "    .dataframe thead th {\n",
       "        text-align: right;\n",
       "    }\n",
       "</style>\n",
       "<table border=\"1\" class=\"dataframe\">\n",
       "  <thead>\n",
       "    <tr style=\"text-align: right;\">\n",
       "      <th></th>\n",
       "      <th>Date</th>\n",
       "      <th>Content Type</th>\n",
       "      <th>Sent by</th>\n",
       "      <th>Post</th>\n",
       "      <th>Impressions</th>\n",
       "      <th>Organic Impressions</th>\n",
       "      <th>Viral Impressions</th>\n",
       "      <th>Non-viral Impressions</th>\n",
       "      <th>Fan Impressions</th>\n",
       "      <th>Fan Organic Impressions</th>\n",
       "      <th>Non-fan Impressions</th>\n",
       "      <th>Non-fan Organic Impressions</th>\n",
       "      <th>Reach</th>\n",
       "      <th>Organic Reach</th>\n",
       "      <th>Viral Reach</th>\n",
       "      <th>Non-viral Reach</th>\n",
       "      <th>Fan Reach</th>\n",
       "      <th>Engagement Rate (per Impression)</th>\n",
       "      <th>Engagement Rate (per Reach)</th>\n",
       "      <th>Engagements</th>\n",
       "      <th>Reactions</th>\n",
       "      <th>Likes</th>\n",
       "      <th>Love Reactions</th>\n",
       "      <th>Haha Reactions</th>\n",
       "      <th>Wow Reactions</th>\n",
       "      <th>Sad Reactions</th>\n",
       "      <th>Angry Reactions</th>\n",
       "      <th>Comments</th>\n",
       "      <th>Shares</th>\n",
       "      <th>Click-Through Rate</th>\n",
       "      <th>Other Post Clicks</th>\n",
       "      <th>Post Clicks (All)</th>\n",
       "      <th>Post Photo View Clicks</th>\n",
       "      <th>Answers</th>\n",
       "      <th>Negative Feedback</th>\n",
       "      <th>Engaged Users</th>\n",
       "      <th>Engaged Fans</th>\n",
       "      <th>Users Talking About This</th>\n",
       "      <th>Unique Reactions</th>\n",
       "      <th>Unique Comments</th>\n",
       "      <th>Unique Shares</th>\n",
       "      <th>Unique Answers</th>\n",
       "      <th>Unique Post Clicks</th>\n",
       "      <th>Unique Post Photo View Clicks</th>\n",
       "      <th>Unique Other Post Clicks</th>\n",
       "      <th>Unique Negative Feedback</th>\n",
       "    </tr>\n",
       "  </thead>\n",
       "  <tbody>\n",
       "    <tr>\n",
       "      <th>12</th>\n",
       "      <td>2017-09-17 11:37:00</td>\n",
       "      <td>Photo</td>\n",
       "      <td>Other</td>\n",
       "      <td>This EPL #Supersunday, it's the Blues against ...</td>\n",
       "      <td>95300.0</td>\n",
       "      <td>59484.0</td>\n",
       "      <td>35816.0</td>\n",
       "      <td>59484.0</td>\n",
       "      <td>57181.0</td>\n",
       "      <td>57181.0</td>\n",
       "      <td>38119.0</td>\n",
       "      <td>2303.0</td>\n",
       "      <td>56094.0</td>\n",
       "      <td>38717.0</td>\n",
       "      <td>18384.0</td>\n",
       "      <td>38717.0</td>\n",
       "      <td>35590.0</td>\n",
       "      <td>5.49</td>\n",
       "      <td>9.32</td>\n",
       "      <td>5230.0</td>\n",
       "      <td>641.0</td>\n",
       "      <td>631.0</td>\n",
       "      <td>6.0</td>\n",
       "      <td>0.0</td>\n",
       "      <td>4.0</td>\n",
       "      <td>0.0</td>\n",
       "      <td>0.0</td>\n",
       "      <td>1050.0</td>\n",
       "      <td>96.0</td>\n",
       "      <td>0.0</td>\n",
       "      <td>3443.0</td>\n",
       "      <td>3443.0</td>\n",
       "      <td>1305.0</td>\n",
       "      <td>0.0</td>\n",
       "      <td>7.0</td>\n",
       "      <td>2431.0</td>\n",
       "      <td>1974.0</td>\n",
       "      <td>1398.0</td>\n",
       "      <td>620.0</td>\n",
       "      <td>955.0</td>\n",
       "      <td>95.0</td>\n",
       "      <td>0.0</td>\n",
       "      <td>1948.0</td>\n",
       "      <td>717.0</td>\n",
       "      <td>1628.0</td>\n",
       "      <td>6.0</td>\n",
       "    </tr>\n",
       "    <tr>\n",
       "      <th>15</th>\n",
       "      <td>2019-09-03 11:43:00</td>\n",
       "      <td>Photo</td>\n",
       "      <td>Aramide Salami</td>\n",
       "      <td>Every human life is a precious gift to humanit...</td>\n",
       "      <td>70855.0</td>\n",
       "      <td>70787.0</td>\n",
       "      <td>35336.0</td>\n",
       "      <td>35449.0</td>\n",
       "      <td>37836.0</td>\n",
       "      <td>37836.0</td>\n",
       "      <td>33019.0</td>\n",
       "      <td>32951.0</td>\n",
       "      <td>52185.0</td>\n",
       "      <td>52185.0</td>\n",
       "      <td>24829.0</td>\n",
       "      <td>29127.0</td>\n",
       "      <td>30207.0</td>\n",
       "      <td>5.25</td>\n",
       "      <td>7.12</td>\n",
       "      <td>3717.0</td>\n",
       "      <td>669.0</td>\n",
       "      <td>622.0</td>\n",
       "      <td>23.0</td>\n",
       "      <td>2.0</td>\n",
       "      <td>0.0</td>\n",
       "      <td>2.0</td>\n",
       "      <td>20.0</td>\n",
       "      <td>186.0</td>\n",
       "      <td>187.0</td>\n",
       "      <td>0.0</td>\n",
       "      <td>2675.0</td>\n",
       "      <td>2675.0</td>\n",
       "      <td>585.0</td>\n",
       "      <td>0.0</td>\n",
       "      <td>1.0</td>\n",
       "      <td>2573.0</td>\n",
       "      <td>1591.0</td>\n",
       "      <td>852.0</td>\n",
       "      <td>649.0</td>\n",
       "      <td>120.0</td>\n",
       "      <td>170.0</td>\n",
       "      <td>0.0</td>\n",
       "      <td>1993.0</td>\n",
       "      <td>563.0</td>\n",
       "      <td>1679.0</td>\n",
       "      <td>1.0</td>\n",
       "    </tr>\n",
       "  </tbody>\n",
       "</table>\n",
       "</div>"
      ],
      "text/plain": [
       "                   Date Content Type         Sent by  \\\n",
       "12  2017-09-17 11:37:00        Photo           Other   \n",
       "15  2019-09-03 11:43:00        Photo  Aramide Salami   \n",
       "\n",
       "                                                 Post  Impressions  \\\n",
       "12  This EPL #Supersunday, it's the Blues against ...      95300.0   \n",
       "15  Every human life is a precious gift to humanit...      70855.0   \n",
       "\n",
       "    Organic Impressions  Viral Impressions  Non-viral Impressions  \\\n",
       "12              59484.0            35816.0                59484.0   \n",
       "15              70787.0            35336.0                35449.0   \n",
       "\n",
       "    Fan Impressions  Fan Organic Impressions  Non-fan Impressions  \\\n",
       "12          57181.0                  57181.0              38119.0   \n",
       "15          37836.0                  37836.0              33019.0   \n",
       "\n",
       "    Non-fan Organic Impressions    Reach  Organic Reach  Viral Reach  \\\n",
       "12                       2303.0  56094.0        38717.0      18384.0   \n",
       "15                      32951.0  52185.0        52185.0      24829.0   \n",
       "\n",
       "    Non-viral Reach  Fan Reach  Engagement Rate (per Impression)  \\\n",
       "12          38717.0    35590.0                              5.49   \n",
       "15          29127.0    30207.0                              5.25   \n",
       "\n",
       "    Engagement Rate (per Reach)  Engagements  Reactions  Likes  \\\n",
       "12                         9.32       5230.0      641.0  631.0   \n",
       "15                         7.12       3717.0      669.0  622.0   \n",
       "\n",
       "    Love Reactions  Haha Reactions  Wow Reactions  Sad Reactions  \\\n",
       "12             6.0             0.0            4.0            0.0   \n",
       "15            23.0             2.0            0.0            2.0   \n",
       "\n",
       "    Angry Reactions  Comments  Shares  Click-Through Rate  Other Post Clicks  \\\n",
       "12              0.0    1050.0    96.0                 0.0             3443.0   \n",
       "15             20.0     186.0   187.0                 0.0             2675.0   \n",
       "\n",
       "    Post Clicks (All)  Post Photo View Clicks  Answers  Negative Feedback  \\\n",
       "12             3443.0                  1305.0      0.0                7.0   \n",
       "15             2675.0                   585.0      0.0                1.0   \n",
       "\n",
       "    Engaged Users  Engaged Fans  Users Talking About This  Unique Reactions  \\\n",
       "12         2431.0        1974.0                    1398.0             620.0   \n",
       "15         2573.0        1591.0                     852.0             649.0   \n",
       "\n",
       "    Unique Comments  Unique Shares  Unique Answers  Unique Post Clicks  \\\n",
       "12            955.0           95.0             0.0              1948.0   \n",
       "15            120.0          170.0             0.0              1993.0   \n",
       "\n",
       "    Unique Post Photo View Clicks  Unique Other Post Clicks  \\\n",
       "12                          717.0                    1628.0   \n",
       "15                          563.0                    1679.0   \n",
       "\n",
       "    Unique Negative Feedback  \n",
       "12                       6.0  \n",
       "15                       1.0  "
      ]
     },
     "execution_count": 14,
     "metadata": {},
     "output_type": "execute_result"
    }
   ],
   "source": [
    "post_with_ads.head(2)"
   ]
  },
  {
   "cell_type": "code",
   "execution_count": 16,
   "metadata": {},
   "outputs": [
    {
     "data": {
      "text/plain": [
       "244"
      ]
     },
     "execution_count": 16,
     "metadata": {},
     "output_type": "execute_result"
    }
   ],
   "source": [
    "post_with_ads.shape[0]"
   ]
  },
  {
   "cell_type": "code",
   "execution_count": 18,
   "metadata": {},
   "outputs": [],
   "source": [
    "post_without_ads = facebook[(facebook['Impressions'] == facebook['Organic Impressions'])]"
   ]
  },
  {
   "cell_type": "code",
   "execution_count": 19,
   "metadata": {},
   "outputs": [
    {
     "data": {
      "text/plain": [
       "8649"
      ]
     },
     "execution_count": 19,
     "metadata": {},
     "output_type": "execute_result"
    }
   ],
   "source": [
    "post_without_ads.shape[0]"
   ]
  },
  {
   "cell_type": "code",
   "execution_count": 28,
   "metadata": {},
   "outputs": [
    {
     "data": {
      "text/plain": [
       "Photo    7615\n",
       "Video     909\n",
       "Text      275\n",
       "Link       94\n",
       "Name: Content Type, dtype: int64"
      ]
     },
     "execution_count": 28,
     "metadata": {},
     "output_type": "execute_result"
    }
   ],
   "source": [
    "facebook['Content Type'].value_counts() "
   ]
  },
  {
   "cell_type": "code",
   "execution_count": 29,
   "metadata": {},
   "outputs": [
    {
     "data": {
      "text/plain": [
       "0.34500000000000003"
      ]
     },
     "execution_count": 29,
     "metadata": {},
     "output_type": "execute_result"
    }
   ],
   "source": [
    "#compare ctr of post with ads and post without ads\n",
    "post_with_ads[post_with_ads['Content Type'] == 'Link']['Click-Through Rate'].mean()"
   ]
  },
  {
   "cell_type": "code",
   "execution_count": 31,
   "metadata": {},
   "outputs": [
    {
     "data": {
      "text/plain": [
       "0.39568181818181825"
      ]
     },
     "execution_count": 31,
     "metadata": {},
     "output_type": "execute_result"
    }
   ],
   "source": [
    "#compare ctr of post with ads and post without ads\n",
    "post_without_ads[post_without_ads['Content Type'] == 'Link']['Click-Through Rate'].mean()"
   ]
  },
  {
   "cell_type": "code",
   "execution_count": 36,
   "metadata": {},
   "outputs": [
    {
     "data": {
      "text/html": [
       "<div>\n",
       "<style scoped>\n",
       "    .dataframe tbody tr th:only-of-type {\n",
       "        vertical-align: middle;\n",
       "    }\n",
       "\n",
       "    .dataframe tbody tr th {\n",
       "        vertical-align: top;\n",
       "    }\n",
       "\n",
       "    .dataframe thead th {\n",
       "        text-align: right;\n",
       "    }\n",
       "</style>\n",
       "<table border=\"1\" class=\"dataframe\">\n",
       "  <thead>\n",
       "    <tr style=\"text-align: right;\">\n",
       "      <th></th>\n",
       "      <th>0</th>\n",
       "    </tr>\n",
       "  </thead>\n",
       "  <tbody>\n",
       "    <tr>\n",
       "      <th>Engagement Rate (per Impression)</th>\n",
       "      <td>6.646311</td>\n",
       "    </tr>\n",
       "    <tr>\n",
       "      <th>Engagement Rate (per Reach)</th>\n",
       "      <td>9.463443</td>\n",
       "    </tr>\n",
       "  </tbody>\n",
       "</table>\n",
       "</div>"
      ],
      "text/plain": [
       "                                         0\n",
       "Engagement Rate (per Impression)  6.646311\n",
       "Engagement Rate (per Reach)       9.463443"
      ]
     },
     "execution_count": 36,
     "metadata": {},
     "output_type": "execute_result"
    }
   ],
   "source": [
    "# compare engagement of post with ads and post with ads\n",
    "pd.DataFrame(post_with_ads[['Engagement Rate (per Impression)', 'Engagement Rate (per Reach)']].mean())"
   ]
  },
  {
   "cell_type": "code",
   "execution_count": 37,
   "metadata": {},
   "outputs": [
    {
     "data": {
      "text/html": [
       "<div>\n",
       "<style scoped>\n",
       "    .dataframe tbody tr th:only-of-type {\n",
       "        vertical-align: middle;\n",
       "    }\n",
       "\n",
       "    .dataframe tbody tr th {\n",
       "        vertical-align: top;\n",
       "    }\n",
       "\n",
       "    .dataframe thead th {\n",
       "        text-align: right;\n",
       "    }\n",
       "</style>\n",
       "<table border=\"1\" class=\"dataframe\">\n",
       "  <thead>\n",
       "    <tr style=\"text-align: right;\">\n",
       "      <th></th>\n",
       "      <th>0</th>\n",
       "    </tr>\n",
       "  </thead>\n",
       "  <tbody>\n",
       "    <tr>\n",
       "      <th>Engagement Rate (per Impression)</th>\n",
       "      <td>5.180753</td>\n",
       "    </tr>\n",
       "    <tr>\n",
       "      <th>Engagement Rate (per Reach)</th>\n",
       "      <td>5.504623</td>\n",
       "    </tr>\n",
       "  </tbody>\n",
       "</table>\n",
       "</div>"
      ],
      "text/plain": [
       "                                         0\n",
       "Engagement Rate (per Impression)  5.180753\n",
       "Engagement Rate (per Reach)       5.504623"
      ]
     },
     "execution_count": 37,
     "metadata": {},
     "output_type": "execute_result"
    }
   ],
   "source": [
    "# compare engagement of post with ads and post without ads\n",
    "pd.DataFrame(post_without_ads[['Engagement Rate (per Impression)', 'Engagement Rate (per Reach)']].mean())"
   ]
  },
  {
   "cell_type": "code",
   "execution_count": 38,
   "metadata": {},
   "outputs": [],
   "source": [
    "#new column for facebook called length of post\n",
    "facebook['post_length'] = facebook['Post'].str.len()"
   ]
  },
  {
   "cell_type": "code",
   "execution_count": 43,
   "metadata": {},
   "outputs": [
    {
     "data": {
      "text/plain": [
       "<AxesSubplot:>"
      ]
     },
     "execution_count": 43,
     "metadata": {},
     "output_type": "execute_result"
    },
    {
     "data": {
      "image/png": "[encoded data removed]",
      "text/plain": [
       "<Figure size 640x480 with 1 Axes>"
      ]
     },
     "metadata": {},
     "output_type": "display_data"
    }
   ],
   "source": [
    "# histogram of post length with four bins\n",
    "facebook['post_length'].hist(bins=50)"
   ]
  },
  {
   "cell_type": "code",
   "execution_count": 44,
   "metadata": {},
   "outputs": [
    {
     "data": {
      "text/plain": [
       "132.0    60\n",
       "101.0    56\n",
       "123.0    55\n",
       "100.0    55\n",
       "156.0    54\n",
       "         ..\n",
       "566.0     1\n",
       "429.0     1\n",
       "593.0     1\n",
       "619.0     1\n",
       "678.0     1\n",
       "Name: post_length, Length: 547, dtype: int64"
      ]
     },
     "execution_count": 44,
     "metadata": {},
     "output_type": "execute_result"
    }
   ],
   "source": [
    "facebook['post_length'].value_counts()"
   ]
  },
  {
   "cell_type": "code",
   "execution_count": 45,
   "metadata": {},
   "outputs": [],
   "source": [
    "# return all similar columns in the four dataframes\n",
    "def similar_columns(df1, df2, df3, df4):\n",
    "    df1_cols = df1.columns\n",
    "    df2_cols = df2.columns\n",
    "    df3_cols = df3.columns\n",
    "    df4_cols = df4.columns\n",
    "    similar_cols = []\n",
    "    for col in df1_cols:\n",
    "        if col in df2_cols and col in df3_cols and col in df4_cols:\n",
    "            similar_cols.append(col)\n",
    "    return similar_cols"
   ]
  },
  {
   "cell_type": "code",
   "execution_count": 48,
   "metadata": {},
   "outputs": [
    {
     "data": {
      "text/plain": [
       "['Date',\n",
       " 'Content Type',\n",
       " 'Sent by',\n",
       " 'Post',\n",
       " 'Impressions',\n",
       " 'Engagement Rate (per Impression)',\n",
       " 'Engagements',\n",
       " 'Reactions',\n",
       " 'Likes',\n",
       " 'Comments']"
      ]
     },
     "execution_count": 48,
     "metadata": {},
     "output_type": "execute_result"
    }
   ],
   "source": [
    "similar_columns(facebook, instagram, twitter, linkedin)"
   ]
  },
  {
   "cell_type": "code",
   "execution_count": null,
   "metadata": {},
   "outputs": [],
   "source": []
  }
 ],
 "metadata": {
  "kernelspec": {
   "display_name": "base",
   "language": "python",
   "name": "python3"
  },
  "language_info": {
   "codemirror_mode": {
    "name": "ipython",
    "version": 3
   },
   "file_extension": ".py",
   "mimetype": "text/x-python",
   "name": "python",
   "nbconvert_exporter": "python",
   "pygments_lexer": "ipython3",
   "version": "3.9.13"
  },
  "orig_nbformat": 4
 },
 "nbformat": 4,
 "nbformat_minor": 2
}
